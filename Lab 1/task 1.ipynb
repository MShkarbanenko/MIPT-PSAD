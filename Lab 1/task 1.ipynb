{
 "cells": [
  {
   "attachments": {},
   "cell_type": "markdown",
   "metadata": {},
   "source": [
    "# Шкарбаненко Михаил Б05-907"
   ]
  },
  {
   "attachments": {},
   "cell_type": "markdown",
   "metadata": {},
   "source": [
    "# Задача 1 (1.4)\n",
    "\n",
    "Частота распределения слов в языке описывается [законом Ципфа](https://en.wikipedia.org/wiki/Zipf%27s_law).\n",
    "\n",
    "Проверить, что он действительно описывает частоту слов (через формальный критерий) на основе анализа двух документов: [Анны Карениной](http://az.lib.ru/t/tolstoj_lew_nikolaewich/text_0080.shtml) и [новостного корпуса](https://object.pouta.csc.fi/OPUS-WMT-News/v2019/mono/ru.txt.gz). Можно ли утверждать, что параметры закона Ципфа для этих двух корпусов совпадают?\n",
    "\n",
    "Пояснение по закону Ципфа: закон Ципфа утверждает, что в выборке из N элементов частота (вероятность) встретить элемент с рангом K равняется: const / K^a, где a --- параметр распределения. [Подробнее можно посмотреть здесь](https://artowen.su.domains/courses/306a/ZipfByHera.pdf)."
   ]
  },
  {
   "attachments": {},
   "cell_type": "markdown",
   "metadata": {},
   "source": [
    "## Решение"
   ]
  },
  {
   "cell_type": "code",
   "execution_count": 600,
   "metadata": {},
   "outputs": [],
   "source": [
    "from string import ascii_letters\n",
    "import numpy as np\n",
    "from scipy import stats \n",
    "import matplotlib.pyplot as plt"
   ]
  },
  {
   "cell_type": "code",
   "execution_count": 601,
   "metadata": {},
   "outputs": [],
   "source": [
    "def rank_list(l):\n",
    "    l.sort(reverse=True)\n",
    "    res = []\n",
    "    rank = 0\n",
    "    for rank, x in enumerate(l, start=1):\n",
    "        for i in range(x):\n",
    "            res.append(rank)\n",
    "    return res"
   ]
  },
  {
   "cell_type": "code",
   "execution_count": 602,
   "metadata": {},
   "outputs": [],
   "source": [
    "allowed_characters = set('abcdefghijklmnopqrstuvwxyz' + 'абвгдеёжзийклмнопрстуфхцчшщъыьэюя' + ' ')"
   ]
  },
  {
   "attachments": {},
   "cell_type": "markdown",
   "metadata": {},
   "source": [
    "## 1. Новостной корпус"
   ]
  },
  {
   "cell_type": "code",
   "execution_count": 603,
   "metadata": {},
   "outputs": [],
   "source": [
    "nc_dict = {}\n",
    "\n",
    "with open('news corpus.txt', 'r') as news_corpus:\n",
    "    for sent in news_corpus:\n",
    "        sent = sent.lower()\n",
    "        new_sent = ''.join(c for c in sent if c in allowed_characters)\n",
    "        for word in new_sent.split():\n",
    "            if word not in nc_dict: \n",
    "                nc_dict[word] = 1\n",
    "            else:\n",
    "                nc_dict[word] += 1\n",
    "\n",
    "nc_word_frequancies = list(nc_dict.values())\n",
    "nc_data = np.array(rank_list(nc_word_frequancies))\n",
    "data = nc_data[nc_data < 100]"
   ]
  },
  {
   "attachments": {},
   "cell_type": "markdown",
   "metadata": {},
   "source": [
    "### 1.1 Оценка параметра"
   ]
  },
  {
   "attachments": {},
   "cell_type": "markdown",
   "metadata": {},
   "source": [
    "Предположим, что частотные ранги слов распределены по закону Ципфа. В рамках этого предположения найдем наилучший с точки зрения оценки максимального правдоподобия параметр $a$ распредедния $const/K^a$."
   ]
  },
  {
   "cell_type": "code",
   "execution_count": 604,
   "metadata": {},
   "outputs": [
    {
     "name": "stdout",
     "output_type": "stream",
     "text": [
      "  params: FitParams(a=1.35709070189885, loc=0.0)\n",
      " success: True\n",
      " message: 'Optimization terminated successfully.'\n"
     ]
    },
    {
     "data": {
      "image/png": "[encoded data removed]",
      "text/plain": [
       "<Figure size 640x480 with 1 Axes>"
      ]
     },
     "metadata": {},
     "output_type": "display_data"
    }
   ],
   "source": [
    "dist = stats.zipf\n",
    "bounds = [(0, 5)]\n",
    "res = stats.fit(dist, data, bounds)\n",
    "print(res)\n",
    "ax = res.plot()\n",
    "ax.set_xlim([0, 50])\n",
    "plt.show()"
   ]
  },
  {
   "attachments": {},
   "cell_type": "markdown",
   "metadata": {},
   "source": [
    "### 1.2 Проверка критерием"
   ]
  },
  {
   "attachments": {},
   "cell_type": "markdown",
   "metadata": {},
   "source": [
    "Зная оценку $a^*$ параметра распределния, можно проверить гипотезу о принадлежности имеющейся выборки к распредедния $const/K^{a^*}$ c помощью теста Колмогорова-Смирнова."
   ]
  },
  {
   "cell_type": "code",
   "execution_count": 605,
   "metadata": {},
   "outputs": [
    {
     "data": {
      "text/plain": [
       "KstestResult(statistic=0.2938588260909525, pvalue=0.0)"
      ]
     },
     "execution_count": 605,
     "metadata": {},
     "output_type": "execute_result"
    }
   ],
   "source": [
    "a = res.params.a\n",
    "dist = stats.zipf(a=a, loc=0.0).cdf\n",
    "stats.kstest(rvs=data, cdf=dist, method='exact')"
   ]
  },
  {
   "attachments": {},
   "cell_type": "markdown",
   "metadata": {},
   "source": [
    "### 1.3 Вывод"
   ]
  },
  {
   "attachments": {},
   "cell_type": "markdown",
   "metadata": {},
   "source": [
    "Даже без учета длинного хвоста выборки согласно критерию Колмогорова-Смирнова нужно отклонить гипотезу о том, что ранги слов распределены по закону Ципфа. Но в действительности график говорит об обратном. Тест Колмогорова-Смирнова показывает отрицательный результат, так как форма имперического распределения несколько не соответствует форме распределния Ципфа - вероятности в хвосте затухают медленней, а значения в окрестности нуля наоборот недотягивают до ожидаемых теоретически. Я как исследователь не стал бы утверждать, что закон не работает. Можно говорить о не точном соответствии конкретному датасету."
   ]
  },
  {
   "attachments": {},
   "cell_type": "markdown",
   "metadata": {},
   "source": [
    "## 2. Анна Каренина"
   ]
  },
  {
   "cell_type": "markdown",
   "metadata": {},
   "source": [
    "Анна Каренина"
   ]
  },
  {
   "attachments": {},
   "cell_type": "markdown",
   "metadata": {},
   "source": [
    "Проведем аналогичную процедуру для второго текста."
   ]
  },
  {
   "cell_type": "code",
   "execution_count": 606,
   "metadata": {},
   "outputs": [],
   "source": [
    "ak_dict = {}\n",
    "\n",
    "with open('anna karenina.txt', 'r') as anna_karenina:\n",
    "    for sent in anna_karenina:\n",
    "        sent = sent.lower()\n",
    "        new_sent = ''.join(c for c in sent if c in allowed_characters)\n",
    "        for word in new_sent.split():\n",
    "            if word not in ak_dict: \n",
    "                ak_dict[word] = 1\n",
    "            else:\n",
    "                ak_dict[word] += 1\n",
    "\n",
    "ak_word_frequancies = list(ak_dict.values())\n",
    "ak_data = np.array(rank_list(ak_word_frequancies))\n",
    "data = ak_data[ak_data < 100]"
   ]
  },
  {
   "attachments": {},
   "cell_type": "markdown",
   "metadata": {},
   "source": [
    "### 2.1 Оценка параметра"
   ]
  },
  {
   "cell_type": "code",
   "execution_count": 607,
   "metadata": {},
   "outputs": [
    {
     "name": "stdout",
     "output_type": "stream",
     "text": [
      "  params: FitParams(a=1.338688185587745, loc=0.0)\n",
      " success: True\n",
      " message: 'Optimization terminated successfully.'\n"
     ]
    },
    {
     "data": {
      "image/png": "[encoded data removed]",
      "text/plain": [
       "<Figure size 640x480 with 1 Axes>"
      ]
     },
     "metadata": {},
     "output_type": "display_data"
    }
   ],
   "source": [
    "dist = stats.zipf\n",
    "bounds = [(0, 5)]\n",
    "res = stats.fit(dist, data, bounds)\n",
    "print(res)\n",
    "ax = res.plot()\n",
    "ax.set_xlim([0, 50])\n",
    "plt.show()"
   ]
  },
  {
   "attachments": {},
   "cell_type": "markdown",
   "metadata": {},
   "source": [
    "### 2.2 Проверка критерием"
   ]
  },
  {
   "cell_type": "code",
   "execution_count": 608,
   "metadata": {},
   "outputs": [
    {
     "data": {
      "text/plain": [
       "KstestResult(statistic=0.29081516665098217, pvalue=0.0)"
      ]
     },
     "execution_count": 608,
     "metadata": {},
     "output_type": "execute_result"
    }
   ],
   "source": [
    "a = res.params.a\n",
    "dist = stats.zipf(a=a, loc=0.0).cdf\n",
    "stats.kstest(rvs=data, cdf=dist, method='exact')"
   ]
  },
  {
   "attachments": {},
   "cell_type": "markdown",
   "metadata": {},
   "source": [
    "### 2.3 Вывод"
   ]
  },
  {
   "attachments": {},
   "cell_type": "markdown",
   "metadata": {},
   "source": [
    "Аналогичный пункту 1.3."
   ]
  },
  {
   "attachments": {},
   "cell_type": "markdown",
   "metadata": {},
   "source": [
    "## 3. Сравнение распределний текстов"
   ]
  },
  {
   "attachments": {},
   "cell_type": "markdown",
   "metadata": {},
   "source": [
    "Здесь рассчитаны значения параметра распределения Ципфа для обоих текстов с использованием всей выборки - без отбрасывания хвостов."
   ]
  },
  {
   "cell_type": "code",
   "execution_count": 628,
   "metadata": {},
   "outputs": [],
   "source": [
    "from IPython.display import display, Math, Latex"
   ]
  },
  {
   "cell_type": "code",
   "execution_count": 636,
   "metadata": {},
   "outputs": [
    {
     "name": "stdout",
     "output_type": "stream",
     "text": [
      "Значение параметра \"a\" для новостного корпуса 1.1594239544079126\n",
      "Значение параметра \"a\" для для Анны Карениной  1.1728029955869772\n"
     ]
    }
   ],
   "source": [
    "dist = stats.zipf\n",
    "bounds = [(0, 5)]\n",
    "res = stats.fit(dist, nc_data, bounds)\n",
    "print(r'Значение параметра \"a\" для новостного корпуса', res.params.a)\n",
    "res = stats.fit(dist, ak_data, bounds)\n",
    "print(r'Значение параметра \"a\" для для Анны Карениной ', res.params.a)"
   ]
  },
  {
   "attachments": {},
   "cell_type": "markdown",
   "metadata": {},
   "source": [
    "### 3.1 Вывод "
   ]
  },
  {
   "attachments": {},
   "cell_type": "markdown",
   "metadata": {},
   "source": [
    "Гипотеза о принадлежности распределений к закону Ципфа была отклонена для обоих текстов. Но в условиях ее истинности, с точки зрения оценки максимального правдоподобия, параметры распределний равны с точностью до сотых."
   ]
  }
 ],
 "metadata": {
  "kernelspec": {
   "display_name": "base",
   "language": "python",
   "name": "python3"
  },
  "language_info": {
   "codemirror_mode": {
    "name": "ipython",
    "version": 3
   },
   "file_extension": ".py",
   "mimetype": "text/x-python",
   "name": "python",
   "nbconvert_exporter": "python",
   "pygments_lexer": "ipython3",
   "version": "3.9.13"
  },
  "orig_nbformat": 4
 },
 "nbformat": 4,
 "nbformat_minor": 2
}
