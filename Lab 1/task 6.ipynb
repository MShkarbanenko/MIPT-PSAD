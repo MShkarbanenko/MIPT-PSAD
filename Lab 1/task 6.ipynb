{
 "cells": [
  {
   "cell_type": "markdown",
   "metadata": {},
   "source": [
    "# Шкарбаненко Михаил Б05-907"
   ]
  },
  {
   "attachments": {},
   "cell_type": "markdown",
   "metadata": {},
   "source": [
    "# Задача 6 (6.1)\n",
    "\n",
    "Рассмотрим задачу предсказание числа заболевших некоторой болезнью от некоторых экологических анализов (см. [файл](https://github.com/andriygav/PSAD/blob/master/labs/lab1/data/sick.csv)). Гарантируется, что предсказание описывается линейной моделью.\n",
    "\n",
    "Так как проведение анализов не является бесплатным, то стоит вопрос о том какие из анализов являются лишними (на уровне значимости \\alpha=0.05) для предсказания линейной модели.\n",
    "\n",
    "Требуется:\n",
    "\n",
    "Записать задачу формально;\n",
    "Провести отбор признаков линейной модели.\n",
    "Все выкладки должны быть сделаны аналитически, без использования компьютера. (допускается использование компютера для подстановвки численых значений в финальную формулу"
   ]
  },
  {
   "attachments": {},
   "cell_type": "markdown",
   "metadata": {},
   "source": [
    "# Решение\n",
    "\n",
    "Задача формально:\n",
    "\n",
    "Пусть имеется набор данных, состоящий из n наблюдений. Каждое наблюдение содержит информацию об экологических анализах и числе заболевших некоторой болезнью. Предсказание числа заболевших описывается линейной моделью:\n",
    "\n",
    "$$y_i = \\beta_0 + \\beta_1 x_{i,1} + \\beta_2 x_{i,2} + ... + \\beta_p x_{i,k} + \\epsilon_i,\\ i = 1, 2, ..., n$$\n",
    "\n",
    "где $y_i$ - число заболевших, $x_{i,1}, x_{i,2}, ..., x_{i,k}$ - значения экологических анализов, $\\beta_0, \\beta_1, \\beta_2, ..., \\beta_k$ - коэффициенты линейной модели, $\\epsilon_i$ - случайная ошибка. Требуется провести отбор признаков линейной модели на уровне значимости $\\alpha=0.05$.\n",
    "\n",
    "Используем критерий Стьюдента. $H_0: \\beta_j = 0$ против альтернативной гипотезы $H_1: \\beta_j \\neq 0$ для $j = 1, 2, ..., k$. Тогда нулевая гипотеза $H_0$ означает, что $j$-ый признак не влияет на предсказание. Альтернативная гипотеза $H_1$ означает, что $j$-ый признак влияет на предсказание.\n",
    "\n",
    "Статистика:\n",
    "\n",
    "$$t_{\\beta_j} = \\frac{\\hat{\\beta}_j}{\\sqrt{\\frac{RSS}{n-k-1}(X^TX)^{-1}_{jj}}}$$\n",
    "\n",
    "где $\\hat{\\beta}_j$ - МНК оценка коэффициента регрессии $\\beta_j$.\n",
    "\n",
    "Если $|t_{\\beta_j}| > t_{1 - \\frac{\\alpha}{2}, N-k-1}$, то гипотеза $H_0$ отвергается на уровне значимости $\\alpha$, и признак $x_{j}$ влияет на результат."
   ]
  },
  {
   "attachments": {},
   "cell_type": "markdown",
   "metadata": {},
   "source": [
    "## Численный расчет"
   ]
  },
  {
   "attachments": {},
   "cell_type": "markdown",
   "metadata": {},
   "source": [
    "Был добавлен признак $x_0$, чтобы учесть байес. Все вычисления произведены без использования готовых решений."
   ]
  },
  {
   "cell_type": "code",
   "execution_count": 217,
   "metadata": {},
   "outputs": [],
   "source": [
    "import pandas as pd\n",
    "from collections import Counter\n",
    "import itertools\n",
    "from matplotlib import pyplot as plt\n",
    "import numpy as np\n",
    "from sklearn.feature_selection import f_regression, r_regression, mutual_info_regression\n",
    "from sklearn.linear_model import LinearRegression\n",
    "import warnings\n",
    "import seaborn as sn\n",
    "warnings.filterwarnings('ignore')\n",
    "from scipy.stats import t\n",
    "from sklearn.metrics import r2_score"
   ]
  },
  {
   "cell_type": "code",
   "execution_count": 218,
   "metadata": {},
   "outputs": [
    {
     "name": "stdout",
     "output_type": "stream",
     "text": [
      "(30, 11) (30, 11) (30,)\n"
     ]
    }
   ],
   "source": [
    "data = pd.read_csv('https://raw.githubusercontent.com/andriygav/PSAD/master/labs/lab1/data/sick.csv')\n",
    "X, y = data.loc[:, data.columns != 'Y'].values, data['Y'].values\n",
    "X = np.concatenate((np.ones(30)[:, np.newaxis], X), axis=1)\n",
    "print(data.shape, X.shape, y.shape)"
   ]
  },
  {
   "cell_type": "code",
   "execution_count": 219,
   "metadata": {},
   "outputs": [
    {
     "data": {
      "text/html": [
       "<div>\n",
       "<style scoped>\n",
       "    .dataframe tbody tr th:only-of-type {\n",
       "        vertical-align: middle;\n",
       "    }\n",
       "\n",
       "    .dataframe tbody tr th {\n",
       "        vertical-align: top;\n",
       "    }\n",
       "\n",
       "    .dataframe thead th {\n",
       "        text-align: right;\n",
       "    }\n",
       "</style>\n",
       "<table border=\"1\" class=\"dataframe\">\n",
       "  <thead>\n",
       "    <tr style=\"text-align: right;\">\n",
       "      <th></th>\n",
       "      <th>x1</th>\n",
       "      <th>x2</th>\n",
       "      <th>x3</th>\n",
       "      <th>x4</th>\n",
       "      <th>x5</th>\n",
       "      <th>x6</th>\n",
       "      <th>x7</th>\n",
       "      <th>x8</th>\n",
       "      <th>x9</th>\n",
       "      <th>x10</th>\n",
       "      <th>Y</th>\n",
       "    </tr>\n",
       "  </thead>\n",
       "  <tbody>\n",
       "    <tr>\n",
       "      <th>11</th>\n",
       "      <td>-0.7</td>\n",
       "      <td>-0.2</td>\n",
       "      <td>1.8</td>\n",
       "      <td>1.8</td>\n",
       "      <td>-0.6</td>\n",
       "      <td>-0.5</td>\n",
       "      <td>0.1</td>\n",
       "      <td>1.0</td>\n",
       "      <td>-1.8</td>\n",
       "      <td>0.1</td>\n",
       "      <td>14.0</td>\n",
       "    </tr>\n",
       "    <tr>\n",
       "      <th>21</th>\n",
       "      <td>-0.2</td>\n",
       "      <td>1.9</td>\n",
       "      <td>-0.3</td>\n",
       "      <td>-1.3</td>\n",
       "      <td>0.1</td>\n",
       "      <td>1.2</td>\n",
       "      <td>0.3</td>\n",
       "      <td>-0.9</td>\n",
       "      <td>2.3</td>\n",
       "      <td>0.2</td>\n",
       "      <td>1.0</td>\n",
       "    </tr>\n",
       "    <tr>\n",
       "      <th>28</th>\n",
       "      <td>-0.3</td>\n",
       "      <td>-0.8</td>\n",
       "      <td>0.9</td>\n",
       "      <td>-1.6</td>\n",
       "      <td>0.2</td>\n",
       "      <td>-0.3</td>\n",
       "      <td>-1.2</td>\n",
       "      <td>1.8</td>\n",
       "      <td>-0.4</td>\n",
       "      <td>1.0</td>\n",
       "      <td>4.0</td>\n",
       "    </tr>\n",
       "    <tr>\n",
       "      <th>22</th>\n",
       "      <td>-0.7</td>\n",
       "      <td>1.3</td>\n",
       "      <td>-0.1</td>\n",
       "      <td>0.8</td>\n",
       "      <td>0.4</td>\n",
       "      <td>1.8</td>\n",
       "      <td>-0.4</td>\n",
       "      <td>-0.9</td>\n",
       "      <td>-1.7</td>\n",
       "      <td>-0.2</td>\n",
       "      <td>1.0</td>\n",
       "    </tr>\n",
       "    <tr>\n",
       "      <th>24</th>\n",
       "      <td>0.1</td>\n",
       "      <td>1.5</td>\n",
       "      <td>-0.4</td>\n",
       "      <td>-0.4</td>\n",
       "      <td>-0.7</td>\n",
       "      <td>0.7</td>\n",
       "      <td>0.3</td>\n",
       "      <td>0.3</td>\n",
       "      <td>-0.2</td>\n",
       "      <td>0.5</td>\n",
       "      <td>1.0</td>\n",
       "    </tr>\n",
       "  </tbody>\n",
       "</table>\n",
       "</div>"
      ],
      "text/plain": [
       "     x1   x2   x3   x4   x5   x6   x7   x8   x9  x10     Y\n",
       "11 -0.7 -0.2  1.8  1.8 -0.6 -0.5  0.1  1.0 -1.8  0.1  14.0\n",
       "21 -0.2  1.9 -0.3 -1.3  0.1  1.2  0.3 -0.9  2.3  0.2   1.0\n",
       "28 -0.3 -0.8  0.9 -1.6  0.2 -0.3 -1.2  1.8 -0.4  1.0   4.0\n",
       "22 -0.7  1.3 -0.1  0.8  0.4  1.8 -0.4 -0.9 -1.7 -0.2   1.0\n",
       "24  0.1  1.5 -0.4 -0.4 -0.7  0.7  0.3  0.3 -0.2  0.5   1.0"
      ]
     },
     "execution_count": 219,
     "metadata": {},
     "output_type": "execute_result"
    }
   ],
   "source": [
    "data.sample(5)"
   ]
  },
  {
   "cell_type": "code",
   "execution_count": 220,
   "metadata": {},
   "outputs": [
    {
     "name": "stdout",
     "output_type": "stream",
     "text": [
      "Отвергаем гипотезу H0 для 0-го признака. Признак x0 не может быть исключен.\n",
      "Отвергаем гипотезу H0 для 1-го признака. Признак x1 не может быть исключен.\n",
      "Данные не противоречат гипотезе H0 для 2-го признака. Признак x2 может быть исключен.\n",
      "Отвергаем гипотезу H0 для 3-го признака. Признак x3 не может быть исключен.\n",
      "Данные не противоречат гипотезе H0 для 4-го признака. Признак x4 может быть исключен.\n",
      "Данные не противоречат гипотезе H0 для 5-го признака. Признак x5 может быть исключен.\n",
      "Данные не противоречат гипотезе H0 для 6-го признака. Признак x6 может быть исключен.\n",
      "Данные не противоречат гипотезе H0 для 7-го признака. Признак x7 может быть исключен.\n",
      "Данные не противоречат гипотезе H0 для 8-го признака. Признак x8 может быть исключен.\n",
      "Данные не противоречат гипотезе H0 для 9-го признака. Признак x9 может быть исключен.\n",
      "Данные не противоречат гипотезе H0 для 10-го признака. Признак x10 может быть исключен.\n"
     ]
    }
   ],
   "source": [
    "b_est = np.linalg.inv(X.T.dot(X)).dot(X.T).dot(y)\n",
    "y_est = X.dot(b_est)\n",
    "n, k = 30, 11\n",
    "RSS = np.square(y - y_est).sum()\n",
    "std = np.sqrt([RSS * np.linalg.inv(X.T.dot(X))[i][i] / (n-k-1) for i in range(k)])\n",
    "alpha = 0.05\n",
    "quantile = t.ppf(1-alpha/2, n-k-1)\n",
    "t_statistic = b_est / std\n",
    "mask = []\n",
    "for i in range(k):\n",
    "    if abs(t_statistic[i]) > quantile:\n",
    "        mask.append(True)\n",
    "        print('Отвергаем гипотезу H0 для {}-го признака. Признак x{} не может быть исключен.'.format(i, i)) \n",
    "    else:\n",
    "        mask.append(False)\n",
    "        print('Данные не противоречат гипотезе H0 для {}-го признака. Признак x{} может быть исключен.'.format(i, i)) "
   ]
  },
  {
   "cell_type": "code",
   "execution_count": 221,
   "metadata": {},
   "outputs": [
    {
     "name": "stdout",
     "output_type": "stream",
     "text": [
      "Коэффициент детерминации до отбрасывания признаков 0.74\n",
      "Коэффициент детерминации после отбрасывания признаков 0.69\n"
     ]
    }
   ],
   "source": [
    "print('Коэффициент детерминации до отбрасывания признаков {}'.format(round(r2_score(y, y_est), 2)))\n",
    "X = X[:, mask]\n",
    "b_est = np.linalg.inv(X.T.dot(X)).dot(X.T).dot(y)\n",
    "y_est = X.dot(b_est)\n",
    "print('Коэффициент детерминации после отбрасывания признаков {}'.format(round(r2_score(y, y_est), 2)))"
   ]
  },
  {
   "attachments": {},
   "cell_type": "markdown",
   "metadata": {},
   "source": [
    "## Вывод\n",
    "\n",
    "Получилось значительно сжать данные, выбросив большую часть признаков, которые, согласно t-тесту, не связаны с целевой переменной. R2-score упал незначительно."
   ]
  }
 ],
 "metadata": {
  "kernelspec": {
   "display_name": "base",
   "language": "python",
   "name": "python3"
  },
  "language_info": {
   "codemirror_mode": {
    "name": "ipython",
    "version": 3
   },
   "file_extension": ".py",
   "mimetype": "text/x-python",
   "name": "python",
   "nbconvert_exporter": "python",
   "pygments_lexer": "ipython3",
   "version": "3.9.13"
  },
  "orig_nbformat": 4
 },
 "nbformat": 4,
 "nbformat_minor": 2
}
