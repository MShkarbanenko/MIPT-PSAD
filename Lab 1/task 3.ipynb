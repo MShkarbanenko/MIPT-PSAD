{
 "cells": [
  {
   "attachments": {},
   "cell_type": "markdown",
   "metadata": {},
   "source": [
    "# Шкарбаненко Михаил Б05-907"
   ]
  },
  {
   "attachments": {},
   "cell_type": "markdown",
   "metadata": {},
   "source": [
    "Задачу 3.4 заменил на 3.2, так как в ней были некорректные переводы (языки перепутаны местами)."
   ]
  },
  {
   "attachments": {},
   "cell_type": "markdown",
   "metadata": {},
   "source": [
    "## Задача 3 (3.2)\n",
    "\n",
    "Дана [статистика бросков для игроков NBA](https://github.com/andriygav/PSAD/blob/master/labs/lab1/data/nba.csv)\n",
    "\n",
    "Выборка представляет собой статистику бросков для различных игроков NBA. Для каждого игрока известны:\n",
    "\n",
    "* количество успешных бросков в домашних играх (score_home)\n",
    "* количество бросков в домашних играх (atm_home)\n",
    "* количество успешных бросков в гостевых играх (score_away)\n",
    "* количество бросков в гостевых играх (atm_away)\n",
    "\n",
    "Требуется определить:\n",
    "\n",
    "1. Есть ли разница в успехе бросков у игроков в домашних и гостевых играх?\n",
    "\n",
    "2. У какого процента игроков разница в успехе существенна?"
   ]
  },
  {
   "attachments": {},
   "cell_type": "markdown",
   "metadata": {},
   "source": [
    "## Решение"
   ]
  },
  {
   "attachments": {},
   "cell_type": "markdown",
   "metadata": {},
   "source": [
    "### Часть 1"
   ]
  },
  {
   "cell_type": "code",
   "execution_count": 371,
   "metadata": {},
   "outputs": [],
   "source": [
    "import pandas as pd\n",
    "import numpy as np\n",
    "import scipy.stats as stats\n",
    "from statsmodels.stats.descriptivestats import sign_test\n",
    "from matplotlib import pyplot as plt\n",
    "import statsmodels.api as sm"
   ]
  },
  {
   "cell_type": "code",
   "execution_count": 372,
   "metadata": {},
   "outputs": [
    {
     "data": {
      "text/html": [
       "<div>\n",
       "<style scoped>\n",
       "    .dataframe tbody tr th:only-of-type {\n",
       "        vertical-align: middle;\n",
       "    }\n",
       "\n",
       "    .dataframe tbody tr th {\n",
       "        vertical-align: top;\n",
       "    }\n",
       "\n",
       "    .dataframe thead th {\n",
       "        text-align: right;\n",
       "    }\n",
       "</style>\n",
       "<table border=\"1\" class=\"dataframe\">\n",
       "  <thead>\n",
       "    <tr style=\"text-align: right;\">\n",
       "      <th></th>\n",
       "      <th>Unnamed: 0</th>\n",
       "      <th>player</th>\n",
       "      <th>team</th>\n",
       "      <th>atm_away</th>\n",
       "      <th>atm_home</th>\n",
       "      <th>score_away</th>\n",
       "      <th>score_home</th>\n",
       "      <th>atm_total</th>\n",
       "      <th>score_total</th>\n",
       "    </tr>\n",
       "  </thead>\n",
       "  <tbody>\n",
       "    <tr>\n",
       "      <th>855</th>\n",
       "      <td>1566</td>\n",
       "      <td>Voskuhl</td>\n",
       "      <td>CHA</td>\n",
       "      <td>53</td>\n",
       "      <td>60</td>\n",
       "      <td>35</td>\n",
       "      <td>42</td>\n",
       "      <td>113</td>\n",
       "      <td>77</td>\n",
       "    </tr>\n",
       "    <tr>\n",
       "      <th>806</th>\n",
       "      <td>1482</td>\n",
       "      <td>Teague</td>\n",
       "      <td>ATL</td>\n",
       "      <td>157</td>\n",
       "      <td>197</td>\n",
       "      <td>119</td>\n",
       "      <td>158</td>\n",
       "      <td>354</td>\n",
       "      <td>277</td>\n",
       "    </tr>\n",
       "    <tr>\n",
       "      <th>50</th>\n",
       "      <td>114</td>\n",
       "      <td>Balkman</td>\n",
       "      <td>NYK</td>\n",
       "      <td>74</td>\n",
       "      <td>120</td>\n",
       "      <td>44</td>\n",
       "      <td>56</td>\n",
       "      <td>194</td>\n",
       "      <td>100</td>\n",
       "    </tr>\n",
       "    <tr>\n",
       "      <th>17</th>\n",
       "      <td>58</td>\n",
       "      <td>Amundson</td>\n",
       "      <td>PHX</td>\n",
       "      <td>142</td>\n",
       "      <td>122</td>\n",
       "      <td>72</td>\n",
       "      <td>57</td>\n",
       "      <td>264</td>\n",
       "      <td>129</td>\n",
       "    </tr>\n",
       "    <tr>\n",
       "      <th>544</th>\n",
       "      <td>987</td>\n",
       "      <td>Maggette</td>\n",
       "      <td>CHA</td>\n",
       "      <td>82</td>\n",
       "      <td>126</td>\n",
       "      <td>65</td>\n",
       "      <td>113</td>\n",
       "      <td>208</td>\n",
       "      <td>178</td>\n",
       "    </tr>\n",
       "  </tbody>\n",
       "</table>\n",
       "</div>"
      ],
      "text/plain": [
       "     Unnamed: 0    player team  atm_away  atm_home  score_away  score_home  \\\n",
       "855        1566   Voskuhl  CHA        53        60          35          42   \n",
       "806        1482    Teague  ATL       157       197         119         158   \n",
       "50          114   Balkman  NYK        74       120          44          56   \n",
       "17           58  Amundson  PHX       142       122          72          57   \n",
       "544         987  Maggette  CHA        82       126          65         113   \n",
       "\n",
       "     atm_total  score_total  \n",
       "855        113           77  \n",
       "806        354          277  \n",
       "50         194          100  \n",
       "17         264          129  \n",
       "544        208          178  "
      ]
     },
     "execution_count": 372,
     "metadata": {},
     "output_type": "execute_result"
    }
   ],
   "source": [
    "data = pd.read_csv('https://raw.githubusercontent.com/andriygav/PSAD/master/labs/lab1/data/nba.csv')\n",
    "data.sample(5)"
   ]
  },
  {
   "attachments": {},
   "cell_type": "markdown",
   "metadata": {},
   "source": [
    "Преобразуем данные. Переведем скоры из абсолютных значений в вероятности успешного броска для домашних и выездных игр."
   ]
  },
  {
   "cell_type": "code",
   "execution_count": 373,
   "metadata": {},
   "outputs": [
    {
     "data": {
      "text/html": [
       "<div>\n",
       "<style scoped>\n",
       "    .dataframe tbody tr th:only-of-type {\n",
       "        vertical-align: middle;\n",
       "    }\n",
       "\n",
       "    .dataframe tbody tr th {\n",
       "        vertical-align: top;\n",
       "    }\n",
       "\n",
       "    .dataframe thead th {\n",
       "        text-align: right;\n",
       "    }\n",
       "</style>\n",
       "<table border=\"1\" class=\"dataframe\">\n",
       "  <thead>\n",
       "    <tr style=\"text-align: right;\">\n",
       "      <th></th>\n",
       "      <th>Unnamed: 0</th>\n",
       "      <th>player</th>\n",
       "      <th>team</th>\n",
       "      <th>atm_away</th>\n",
       "      <th>atm_home</th>\n",
       "      <th>score_away</th>\n",
       "      <th>score_home</th>\n",
       "      <th>atm_total</th>\n",
       "      <th>score_total</th>\n",
       "      <th>score_prob_away</th>\n",
       "      <th>score_prob_home</th>\n",
       "    </tr>\n",
       "  </thead>\n",
       "  <tbody>\n",
       "    <tr>\n",
       "      <th>220</th>\n",
       "      <td>406</td>\n",
       "      <td>Delfino</td>\n",
       "      <td>MIL</td>\n",
       "      <td>109</td>\n",
       "      <td>137</td>\n",
       "      <td>88</td>\n",
       "      <td>106</td>\n",
       "      <td>246</td>\n",
       "      <td>194</td>\n",
       "      <td>0.807339</td>\n",
       "      <td>0.773723</td>\n",
       "    </tr>\n",
       "    <tr>\n",
       "      <th>704</th>\n",
       "      <td>1281</td>\n",
       "      <td>Radmanovic</td>\n",
       "      <td>LAL</td>\n",
       "      <td>100</td>\n",
       "      <td>71</td>\n",
       "      <td>81</td>\n",
       "      <td>52</td>\n",
       "      <td>171</td>\n",
       "      <td>133</td>\n",
       "      <td>0.810000</td>\n",
       "      <td>0.732394</td>\n",
       "    </tr>\n",
       "    <tr>\n",
       "      <th>246</th>\n",
       "      <td>452</td>\n",
       "      <td>Dudley</td>\n",
       "      <td>PHX</td>\n",
       "      <td>299</td>\n",
       "      <td>324</td>\n",
       "      <td>225</td>\n",
       "      <td>228</td>\n",
       "      <td>623</td>\n",
       "      <td>453</td>\n",
       "      <td>0.752508</td>\n",
       "      <td>0.703704</td>\n",
       "    </tr>\n",
       "    <tr>\n",
       "      <th>557</th>\n",
       "      <td>1006</td>\n",
       "      <td>Marks</td>\n",
       "      <td>NOH</td>\n",
       "      <td>26</td>\n",
       "      <td>28</td>\n",
       "      <td>17</td>\n",
       "      <td>19</td>\n",
       "      <td>54</td>\n",
       "      <td>36</td>\n",
       "      <td>0.653846</td>\n",
       "      <td>0.678571</td>\n",
       "    </tr>\n",
       "    <tr>\n",
       "      <th>495</th>\n",
       "      <td>898</td>\n",
       "      <td>Kapono</td>\n",
       "      <td>TOR</td>\n",
       "      <td>59</td>\n",
       "      <td>28</td>\n",
       "      <td>50</td>\n",
       "      <td>22</td>\n",
       "      <td>87</td>\n",
       "      <td>72</td>\n",
       "      <td>0.847458</td>\n",
       "      <td>0.785714</td>\n",
       "    </tr>\n",
       "  </tbody>\n",
       "</table>\n",
       "</div>"
      ],
      "text/plain": [
       "     Unnamed: 0      player team  atm_away  atm_home  score_away  score_home  \\\n",
       "220         406     Delfino  MIL       109       137          88         106   \n",
       "704        1281  Radmanovic  LAL       100        71          81          52   \n",
       "246         452      Dudley  PHX       299       324         225         228   \n",
       "557        1006       Marks  NOH        26        28          17          19   \n",
       "495         898      Kapono  TOR        59        28          50          22   \n",
       "\n",
       "     atm_total  score_total  score_prob_away  score_prob_home  \n",
       "220        246          194         0.807339         0.773723  \n",
       "704        171          133         0.810000         0.732394  \n",
       "246        623          453         0.752508         0.703704  \n",
       "557         54           36         0.653846         0.678571  \n",
       "495         87           72         0.847458         0.785714  "
      ]
     },
     "execution_count": 373,
     "metadata": {},
     "output_type": "execute_result"
    }
   ],
   "source": [
    "data['score_prob_away'] = data['score_away'] / data['atm_away']\n",
    "data['score_prob_home'] = data['score_home'] / data['atm_home']\n",
    "data.sample(5)"
   ]
  },
  {
   "attachments": {},
   "cell_type": "markdown",
   "metadata": {},
   "source": [
    "Теперь можно применить двухвыборочные критерии для связанных выборок."
   ]
  },
  {
   "cell_type": "code",
   "execution_count": 374,
   "metadata": {},
   "outputs": [
    {
     "name": "stdout",
     "output_type": "stream",
     "text": [
      "Критерий Уилкоксона p-value: 0.091\n",
      "Критерий знаков p-value: 0.159\n"
     ]
    }
   ],
   "source": [
    "x = data['score_prob_away']\n",
    "y = data['score_prob_home']\n",
    "print('Критерий Уилкоксона p-value: {}'.format(round(stats.wilcoxon(x, y).pvalue, 3)))\n",
    "print('Критерий знаков p-value: {}'.format(round(sign_test(x-y)[1], 3)))"
   ]
  },
  {
   "cell_type": "code",
   "execution_count": 375,
   "metadata": {},
   "outputs": [
    {
     "data": {
      "text/plain": [
       "array([[<AxesSubplot:title={'center':'score_prob_home'}>,\n",
       "        <AxesSubplot:title={'center':'score_prob_away'}>]], dtype=object)"
      ]
     },
     "execution_count": 375,
     "metadata": {},
     "output_type": "execute_result"
    },
    {
     "data": {
      "image/png": "[encoded data removed]",
      "text/plain": [
       "<Figure size 1200x500 with 2 Axes>"
      ]
     },
     "metadata": {},
     "output_type": "display_data"
    }
   ],
   "source": [
    "data.hist(column=['score_prob_home', 'score_prob_away'], figsize=(12, 5))"
   ]
  },
  {
   "attachments": {},
   "cell_type": "markdown",
   "metadata": {},
   "source": [
    "#### Вывод\n",
    "\n",
    "Cогласно результатм проверки с помощью критериев данные не противоречат гипотезе о том, что разницы в успехе бросков дома и в гостях нет. \n",
    "\n",
    "Гистограмы распределений долей успешных бросков также схожи - дополнительное подтверждение того, что данные гипотезе не противоречат."
   ]
  },
  {
   "attachments": {},
   "cell_type": "markdown",
   "metadata": {},
   "source": [
    "### Часть 2"
   ]
  },
  {
   "attachments": {},
   "cell_type": "markdown",
   "metadata": {},
   "source": [
    "Рассмотрим распределние разницы долей успешных бросков в гостевых и домашних матчах."
   ]
  },
  {
   "cell_type": "code",
   "execution_count": 376,
   "metadata": {},
   "outputs": [
    {
     "data": {
      "image/png": "[encoded data removed]",
      "text/plain": [
       "<Figure size 640x480 with 1 Axes>"
      ]
     },
     "metadata": {},
     "output_type": "display_data"
    }
   ],
   "source": [
    "z = x -y\n",
    "plt.hist(z, bins=100)\n",
    "plt.title('score prob diff')\n",
    "plt.show()"
   ]
  },
  {
   "cell_type": "code",
   "execution_count": 377,
   "metadata": {},
   "outputs": [
    {
     "data": {
      "image/png": "[encoded data removed]",
      "text/plain": [
       "<Figure size 640x480 with 1 Axes>"
      ]
     },
     "metadata": {},
     "output_type": "display_data"
    }
   ],
   "source": [
    "sm.qqplot(9 * z, line='45')\n",
    "plt.show()"
   ]
  },
  {
   "attachments": {},
   "cell_type": "markdown",
   "metadata": {},
   "source": [
    "Проверим гипотезу о нормальности данного распределения."
   ]
  },
  {
   "cell_type": "code",
   "execution_count": 378,
   "metadata": {},
   "outputs": [
    {
     "data": {
      "text/plain": [
       "NormaltestResult(statistic=33.580186151072404, pvalue=5.1068749860037386e-08)"
      ]
     },
     "execution_count": 378,
     "metadata": {},
     "output_type": "execute_result"
    }
   ],
   "source": [
    "stats.normaltest(z)"
   ]
  },
  {
   "attachments": {},
   "cell_type": "markdown",
   "metadata": {},
   "source": [
    "Гипотеза отклоняется, но распределения явно близко к нормальному. Чтобы определить долю игроков у которых разница в успехе существенна, сначала нужно задать порог, выше которого разница будет считаться существенной. Например: threshold = 0.2."
   ]
  },
  {
   "cell_type": "code",
   "execution_count": 379,
   "metadata": {},
   "outputs": [
    {
     "name": "stdout",
     "output_type": "stream",
     "text": [
      "Доля игроков с существенной разницей: 2.2%\n"
     ]
    }
   ],
   "source": [
    "threshold = 0.2\n",
    "z_th = z[abs(z) > 0.2]\n",
    "perc = 100 * len(z_th)/len(z)\n",
    "print(\"Доля игроков с существенной разницей: {}%\".format(round(perc, 1)))"
   ]
  }
 ],
 "metadata": {
  "kernelspec": {
   "display_name": "base",
   "language": "python",
   "name": "python3"
  },
  "language_info": {
   "codemirror_mode": {
    "name": "ipython",
    "version": 3
   },
   "file_extension": ".py",
   "mimetype": "text/x-python",
   "name": "python",
   "nbconvert_exporter": "python",
   "pygments_lexer": "ipython3",
   "version": "3.9.13"
  },
  "orig_nbformat": 4
 },
 "nbformat": 4,
 "nbformat_minor": 2
}
