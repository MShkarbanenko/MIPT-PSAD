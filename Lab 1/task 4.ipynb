{
 "cells": [
  {
   "cell_type": "markdown",
   "metadata": {},
   "source": [
    "# Шкарбаненко Михаил Б05-907"
   ]
  },
  {
   "attachments": {},
   "cell_type": "markdown",
   "metadata": {},
   "source": [
    "# Задача 4 (4.2)\n",
    "\n",
    "Рассмотрим некоторую задачу классификации. Пусть задано качество 4 моделей a1, a2, a3, a4. Качество полученных моделей показано в [таблице](https://github.com/andriygav/PSAD/blob/master/labs/lab1/data/classifiers.csv).\n",
    "\n",
    "Исследователю требуется выбрать наилучшую модель. Для выбора лучшей модели исследовать требуется попарно сравнить среднее значение качества всех моделей. Может ли исследователь утверждать что какая-то из моделей лучше другой?\n",
    "\n",
    "Требуется:\n",
    "\n",
    "* записать задачу формально;\n",
    "\n",
    "* предложить статистику для решения данной задачи;\n",
    "\n",
    "* записать нулевое распределение данной статистики;\n",
    "\n",
    "* записать явно правило принятия решения на основе статистики и нулевого распределения для обеспечения уровня значимости alpha = 0.05;\n",
    "\n",
    "* проверить гипотезу по записанному критерию, для данных из условия. Противоречат ли они гипотезе?\n",
    "\n",
    "Все выкладки должны быть сделаны аналитически, без использования компьютера. (допускается использование компютера для подстановвки численых значений в финальную формулу)"
   ]
  },
  {
   "attachments": {},
   "cell_type": "markdown",
   "metadata": {},
   "source": [
    "## Решение"
   ]
  },
  {
   "cell_type": "code",
   "execution_count": 607,
   "metadata": {},
   "outputs": [],
   "source": [
    "import pandas as pd\n",
    "from collections import Counter\n",
    "import itertools\n",
    "from matplotlib import pyplot as plt\n",
    "import numpy as np\n",
    "import collections\n",
    "import warnings"
   ]
  },
  {
   "cell_type": "code",
   "execution_count": 608,
   "metadata": {},
   "outputs": [],
   "source": [
    "warnings.filterwarnings('ignore')"
   ]
  },
  {
   "cell_type": "code",
   "execution_count": 609,
   "metadata": {},
   "outputs": [
    {
     "data": {
      "text/html": [
       "<div>\n",
       "<style scoped>\n",
       "    .dataframe tbody tr th:only-of-type {\n",
       "        vertical-align: middle;\n",
       "    }\n",
       "\n",
       "    .dataframe tbody tr th {\n",
       "        vertical-align: top;\n",
       "    }\n",
       "\n",
       "    .dataframe thead th {\n",
       "        text-align: right;\n",
       "    }\n",
       "</style>\n",
       "<table border=\"1\" class=\"dataframe\">\n",
       "  <thead>\n",
       "    <tr style=\"text-align: right;\">\n",
       "      <th></th>\n",
       "      <th>Номер выборки</th>\n",
       "      <th>a1</th>\n",
       "      <th>a2</th>\n",
       "      <th>a3</th>\n",
       "      <th>a4</th>\n",
       "    </tr>\n",
       "  </thead>\n",
       "  <tbody>\n",
       "    <tr>\n",
       "      <th>0</th>\n",
       "      <td>1</td>\n",
       "      <td>86</td>\n",
       "      <td>50</td>\n",
       "      <td>93</td>\n",
       "      <td>13</td>\n",
       "    </tr>\n",
       "    <tr>\n",
       "      <th>1</th>\n",
       "      <td>2</td>\n",
       "      <td>85</td>\n",
       "      <td>74</td>\n",
       "      <td>55</td>\n",
       "      <td>35</td>\n",
       "    </tr>\n",
       "    <tr>\n",
       "      <th>2</th>\n",
       "      <td>3</td>\n",
       "      <td>53</td>\n",
       "      <td>92</td>\n",
       "      <td>58</td>\n",
       "      <td>51</td>\n",
       "    </tr>\n",
       "    <tr>\n",
       "      <th>3</th>\n",
       "      <td>4</td>\n",
       "      <td>44</td>\n",
       "      <td>41</td>\n",
       "      <td>56</td>\n",
       "      <td>37</td>\n",
       "    </tr>\n",
       "    <tr>\n",
       "      <th>4</th>\n",
       "      <td>5</td>\n",
       "      <td>2</td>\n",
       "      <td>18</td>\n",
       "      <td>99</td>\n",
       "      <td>26</td>\n",
       "    </tr>\n",
       "    <tr>\n",
       "      <th>5</th>\n",
       "      <td>6</td>\n",
       "      <td>5</td>\n",
       "      <td>68</td>\n",
       "      <td>35</td>\n",
       "      <td>17</td>\n",
       "    </tr>\n",
       "  </tbody>\n",
       "</table>\n",
       "</div>"
      ],
      "text/plain": [
       "   Номер выборки  a1  a2  a3  a4\n",
       "0              1  86  50  93  13\n",
       "1              2  85  74  55  35\n",
       "2              3  53  92  58  51\n",
       "3              4  44  41  56  37\n",
       "4              5   2  18  99  26\n",
       "5              6   5  68  35  17"
      ]
     },
     "execution_count": 609,
     "metadata": {},
     "output_type": "execute_result"
    }
   ],
   "source": [
    "data = pd.read_csv('https://raw.githubusercontent.com/andriygav/PSAD/master/labs/lab1/data/classifiers.csv')\n",
    "data"
   ]
  },
  {
   "attachments": {},
   "cell_type": "markdown",
   "metadata": {},
   "source": [
    "Будем попарно сравнивать выборки, используя критерий Уилкоксона-Манна-Уитни."
   ]
  },
  {
   "attachments": {},
   "cell_type": "markdown",
   "metadata": {},
   "source": [
    "1. Постановка задачи:\n",
    "\n",
    "* Нулевая гипотеза $H_0$: $F_{X_1}(x) = F_{X_2}(x)$ \n",
    "\n",
    "* Альтернатива $H_1$: $F_{X_1}(x) = F_{X_2}(x + \\Delta)$ \n",
    "\n",
    "2. Статистика: \n",
    "\n",
    "$$X_{(n_1)} \\leq \\dots \\leq X_{(n_1 + n_2)}$$\n",
    "\n",
    "$$X = X_1^{n_1} \\cup X_2^{n_2}$$\n",
    "\n",
    "$$R(X_1^{n_1}, X_2^{n_2}) = \\sum\\limits_{i=1}^{n_1}rank(X_1^{i})$$\n",
    "\n",
    "3. Нулевое распределние статистики табличное. Рассчитывается перебором различных комбинаций рангов элементов выборки $X_1$ в общем вариационном ряду.\n",
    "\n",
    "4. Модификация уровня значимости методом Бенджамини-Хохберга: $\\alpha_i = \\frac{\\alpha i}{6}$, где $i \\in \\overline{1,6}$.\n",
    "\n",
    "5. Пусть $r$ - значение статистики, тогда $H_0$ отвергается $\\iff$ $r \\notin [R_{\\frac{\\alpha^*}{2}}, R_{\\frac{1-\\alpha^*}{2}}]$."
   ]
  },
  {
   "attachments": {},
   "cell_type": "markdown",
   "metadata": {},
   "source": [
    "Все рассчеты произведены без использования сторонних библиотек по статитистическому анализу и реализованных методов/критериев."
   ]
  },
  {
   "cell_type": "code",
   "execution_count": 610,
   "metadata": {},
   "outputs": [],
   "source": [
    "def calc_r(x1, x2):\n",
    "    union = np.concatenate((x1, x2))\n",
    "    union.sort()\n",
    "    res = 0\n",
    "    for v1 in x1:\n",
    "        res += 1\n",
    "        for v in union:\n",
    "            res += int(v1 > v)\n",
    "    return res\n",
    "\n",
    "def calc_pvalue(sum_cum_probs, r): \n",
    "    pvalue = 2 * min(sum_cum_probs[r], 1 - sum_cum_probs[r])\n",
    "    return pvalue"
   ]
  },
  {
   "cell_type": "code",
   "execution_count": 611,
   "metadata": {},
   "outputs": [
    {
     "data": {
      "image/png": "[encoded data removed]",
      "text/plain": [
       "<Figure size 640x480 with 1 Axes>"
      ]
     },
     "metadata": {},
     "output_type": "display_data"
    }
   ],
   "source": [
    "m, alpha_0 = 6, 0.05\n",
    "ranks = [1, 2, 3, 4, 5, 6, 7, 8, 9, 10, 11, 12]\n",
    "all_subsets = itertools.combinations(ranks, 6)\n",
    "sums = np.array([sum(s) for s in all_subsets])\n",
    "\n",
    "sums_count = Counter(sums)\n",
    "sums_probs = {}\n",
    "norm_coeff = sum(sums_count.values())\n",
    "for c in count:\n",
    "    sums_probs[c] = (sums_count[c]/norm_coeff)\n",
    "\n",
    "sums_cum_probs = {}\n",
    "sums_cum_probs_list = np.cumsum(list(sums_probs.values()))\n",
    "sums_cum_probs_list\n",
    "for i, val in enumerate(sums_probs):\n",
    "    sums_cum_probs[val] = sums_cum_probs_list[i]\n",
    "\n",
    "plt.hist(sums, bins=len(set(sums)), edgecolor=\"black\", density=True)\n",
    "plt.title('Табличное распределение статистики')\n",
    "plt.show()"
   ]
  },
  {
   "cell_type": "code",
   "execution_count": 612,
   "metadata": {},
   "outputs": [
    {
     "name": "stdout",
     "output_type": "stream",
     "text": [
      "Выборки: (a3 a4)   Уровень значимости: 0.008333333333333335   p-value: 0.0087\n",
      "Выборки: (a2 a4)   Уровень значимости: 0.01666666666666667   p-value: 0.0411\n",
      "Выборки: (a1 a3)   Уровень значимости: 0.025000000000000005   p-value: 0.2403\n",
      "Выборки: (a1 a4)   Уровень значимости: 0.03333333333333334   p-value: 0.3939\n",
      "Выборки: (a2 a3)   Уровень значимости: 0.04166666666666668   p-value: 0.5887\n",
      "Выборки: (a1 a2)   Уровень значимости: 0.05000000000000001   p-value: 0.6991\n"
     ]
    }
   ],
   "source": [
    "cnt = 0\n",
    "sample_dict = {}\n",
    "for i in range(1, 4):\n",
    "    for j in range(i+1, 5):\n",
    "        cnt += 1\n",
    "        alpha = alpha_0 * cnt / m\n",
    "        ai, aj = 'a' + str(i), 'a' + str(j)\n",
    "        r = calc_r(data[ai].to_numpy(), data[aj].to_numpy())\n",
    "        pvalue = calc_pvalue(sums_cum_probs, r)\n",
    "        sample_dict[ai+' '+aj] = round(pvalue, 4)\n",
    "sample_dict = dict(sorted(sample_dict.items(), key=lambda item: item[1]))\n",
    "\n",
    "for i, (a, p) in enumerate(sample_dict.items()):\n",
    "    modif_alpha = alpha * (i + 1) / m\n",
    "    print('Выборки: ({})   Уровень значимости: {}   p-value: {}'.format(a, modif_alpha, p))\n"
   ]
  },
  {
   "attachments": {},
   "cell_type": "markdown",
   "metadata": {},
   "source": [
    "### Вывод\n",
    "\n",
    "Ни для одной из пар выборок нельзя отклонить гипотезу о равенстве среднего качества моделей. Наиболее близка к отклонению пара (a1, a3). Я попробовал все методы множественной правки гипотез, но везде не хватает буквально нескольколько десятитысячных для отклонения гипотезы."
   ]
  }
 ],
 "metadata": {
  "kernelspec": {
   "display_name": "base",
   "language": "python",
   "name": "python3"
  },
  "language_info": {
   "codemirror_mode": {
    "name": "ipython",
    "version": 3
   },
   "file_extension": ".py",
   "mimetype": "text/x-python",
   "name": "python",
   "nbconvert_exporter": "python",
   "pygments_lexer": "ipython3",
   "version": "3.9.13"
  },
  "orig_nbformat": 4
 },
 "nbformat": 4,
 "nbformat_minor": 2
}
